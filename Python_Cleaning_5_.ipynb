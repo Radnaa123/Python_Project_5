{
 "cells": [
  {
   "cell_type": "code",
   "execution_count": 6,
   "metadata": {},
   "outputs": [],
   "source": [
    "import numpy as np\n",
    "import pandas as pd\n",
    "import matplotlib.pyplot as plt\n",
    "import seaborn as sns"
   ]
  },
  {
   "cell_type": "code",
   "execution_count": null,
   "metadata": {},
   "outputs": [],
   "source": [
    "df_companies = pd.read_csv(r\"D:\\Data analysis\\SQl_Projects\\SQL_Project_5_Linkedin-FInished\\LinkedIN_job_postings_data\\companies\\companies.csv\")\n",
    "df_company_industries = pd.read_csv(r\"D:\\Data analysis\\SQl_Projects\\SQL_Project_5_Linkedin-FInished\\LinkedIN_job_postings_data\\companies\\company_industries.csv\")\n",
    "df_company_specialities = pd.read_csv(r\"D:\\Data analysis\\SQl_Projects\\SQL_Project_5_Linkedin-FInished\\LinkedIN_job_postings_data\\companies\\company_specialities.csv\")\n",
    "df_employee_counts = pd.read_csv(r\"D:\\Data analysis\\SQl_Projects\\SQL_Project_5_Linkedin-FInished\\LinkedIN_job_postings_data\\companies\\employee_counts.csv\")\n",
    "df_benefits = pd.read_csv(r\"D:\\Data analysis\\SQl_Projects\\SQL_Project_5_Linkedin-FInished\\LinkedIN_job_postings_data\\jobs\\benefits.csv\")\n",
    "df_job_industries = pd.read_csv(r\"D:\\Data analysis\\SQl_Projects\\SQL_Project_5_Linkedin-FInished\\LinkedIN_job_postings_data\\jobs\\job_industries.csv\")\n",
    "df_job_skills = pd.read_csv(r\"D:\\Data analysis\\SQl_Projects\\SQL_Project_5_Linkedin-FInished\\LinkedIN_job_postings_data\\jobs\\job_skills.csv\")\n",
    "df_salaries = pd.read_csv(r\"D:\\Data analysis\\SQl_Projects\\SQL_Project_5_Linkedin-FInished\\LinkedIN_job_postings_data\\jobs\\salaries.csv\")\n",
    "df_industries = pd.read_csv(r\"D:\\Data analysis\\SQl_Projects\\SQL_Project_5_Linkedin-FInished\\LinkedIN_job_postings_data\\mappings\\industries.csv\")\n",
    "df_skills = pd.read_csv(r\"D:\\Data analysis\\SQl_Projects\\SQL_Project_5_Linkedin-FInished\\LinkedIN_job_postings_data\\mappings\\skills.csv\")\n",
    "df_postings = pd.read_csv(r\"D:\\Data analysis\\SQl_Projects\\SQL_Project_5_Linkedin-FInished\\LinkedIN_job_postings_data\\postings.csv\")"
   ]
  },
  {
   "cell_type": "code",
   "execution_count": 8,
   "metadata": {},
   "outputs": [],
   "source": [
    "# Step 1: Foreign key-д байсан утгуудын зарим нь primary key-тэй таарахгүй байсан ба тэдгээр утгыг агуулж буй мөрүүдийг филтердэж байна.\n",
    "df_company_industries = df_company_industries[df_company_industries['company_id'].isin(df_companies['company_id'])]\n",
    "df_company_specialities = df_company_specialities[df_company_specialities['company_id'].isin(df_companies['company_id'])]\n",
    "df_employee_counts = df_employee_counts[df_employee_counts['company_id'].isin(df_companies['company_id'])]\n",
    "df_benefits = df_benefits[df_benefits['job_id'].isin(df_salaries['job_id'])]\n",
    "df_job_skills = df_job_skills[df_job_skills['job_id'].isin(df_salaries['job_id'])]\n",
    "df_job_skills = df_job_skills[df_job_skills['skill_abr'].isin(df_skills['skill_abr'])]\n",
    "df_job_industries = df_job_industries[df_job_industries['job_id'].isin(df_salaries['job_id'])]\n",
    "df_job_industries = df_job_industries[df_job_industries['industry_id'].isin(df_industries['industry_id'])]\n",
    "df_postings = df_postings[df_postings['job_id'].isin(df_salaries['job_id'])]\n",
    "df_postings = df_postings[df_postings['company_id'].isin(df_companies['company_id'])]"
   ]
  },
  {
   "cell_type": "code",
   "execution_count": 9,
   "metadata": {},
   "outputs": [],
   "source": [
    "# Step 2: филтердсэний дараа давхцсан утгуудыг устгаж байна.\n",
    "df_companies_cleaned = df_companies.drop_duplicates()\n",
    "df_company_industries_cleaned = df_company_industries.drop_duplicates()\n",
    "df_company_specialities_cleaned = df_company_specialities.drop_duplicates()\n",
    "df_employee_counts_cleaned = df_employee_counts.drop_duplicates()\n",
    "df_salaries_cleaned = df_salaries.drop_duplicates()\n",
    "df_benefits_cleaned = df_benefits.drop_duplicates()\n",
    "df_job_skills_cleaned = df_job_skills.drop_duplicates()\n",
    "df_job_industries_cleaned = df_job_industries.drop_duplicates()\n",
    "df_postings_cleaned = df_postings.drop_duplicates()\n",
    "df_skills_cleaned = df_skills.drop_duplicates()\n",
    "df_industries_cleaned = df_industries.drop_duplicates()"
   ]
  },
  {
   "cell_type": "code",
   "execution_count": 5,
   "metadata": {},
   "outputs": [],
   "source": [
    "# Step 3: Цаашид analyze хийхийн тулд цэвэрлэгдсэн датаг экспортлож байна.\n",
    "df_companies_cleaned.to_csv('cleaned_company.csv', index=False)\n",
    "df_company_industries_cleaned.to_csv('cleaned_com_industry.csv', index=False)\n",
    "df_company_specialities_cleaned.to_csv('cleaned_com_speciality.csv', index=False)\n",
    "df_employee_counts_cleaned.to_csv('cleaned_employee_counts.csv', index=False)\n",
    "df_salaries_cleaned.to_csv('cleaned_salary.csv', index=False)\n",
    "df_benefits_cleaned.to_csv('cleaned_benefits.csv', index=False)\n",
    "df_job_skills_cleaned.to_csv('cleaned_job_skills.csv', index=False)\n",
    "df_job_industries_cleaned.to_csv('cleaned_job_industry.csv', index=False)\n",
    "df_postings_cleaned.to_csv('cleaned_postings.csv', index=False)\n",
    "df_skills_cleaned.to_csv('cleaned_skills.csv', index=False)\n",
    "df_industries_cleaned.to_csv('cleaned_industry.csv', index=False)"
   ]
  },
  {
   "cell_type": "code",
   "execution_count": 10,
   "metadata": {},
   "outputs": [],
   "source": [
    "df_company_industries_cleaned.to_csv('cleaned_com_industry.csv', index=False)\n",
    "df_company_specialities_cleaned.to_csv('cleaned_com_speciality.csv', index=False)"
   ]
  }
 ],
 "metadata": {
  "kernelspec": {
   "display_name": "base",
   "language": "python",
   "name": "python3"
  },
  "language_info": {
   "codemirror_mode": {
    "name": "ipython",
    "version": 3
   },
   "file_extension": ".py",
   "mimetype": "text/x-python",
   "name": "python",
   "nbconvert_exporter": "python",
   "pygments_lexer": "ipython3",
   "version": "3.11.5"
  }
 },
 "nbformat": 4,
 "nbformat_minor": 2
}
